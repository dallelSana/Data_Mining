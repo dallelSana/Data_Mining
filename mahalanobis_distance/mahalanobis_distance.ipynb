{
 "cells": [
  {
   "cell_type": "markdown",
   "id": "03356bda",
   "metadata": {},
   "source": [
    "<img src=\"entete3.png\">"
   ]
  },
  {
   "cell_type": "markdown",
   "id": "f7bfabab",
   "metadata": {},
   "source": [
    "<h1><font color='orange'>Partie Théorique : </font></h1>"
   ]
  },
  {
   "cell_type": "markdown",
   "id": "ada42c49",
   "metadata": {},
   "source": [
    "<h2><font color='blue'> 1) Définition </font></h2>"
   ]
  },
  {
   "cell_type": "markdown",
   "id": "c716a026",
   "metadata": {},
   "source": [
    "la distance de Mahalanobis est une mesure de distance mathématique introduite par Prasanta Chandra Mahalanobis en 19361. Elle est basée sur la corrélation entre des variables par lesquelles différents modèles peuvent être identifiés et analysés. C'est une manière utile de déterminer la similarité entre une série de données connues et inconnues. Elle diffère de la distance euclidienne par le fait qu'elle prend en compte la variance et la corrélation de la série de données. Ainsi, à la différence de la distance euclidienne où toutes les composantes des vecteurs sont traitées indépendamment et de la même façon, la distance de Mahalanobis accorde un poids moins important aux composantes les plus dispersées. Dans le cas de l'analyse des signaux, et en supposant que chaque composante soit une variable aléatoire de type gaussien, cela revient à minimiser l'influence des composantes les plus bruitées (celles ayant la plus grande variance). "
   ]
  },
  {
   "cell_type": "markdown",
   "id": "1b4bf9d7",
   "metadata": {},
   "source": [
    "La distance de Mahalanobis est souvent utilisée pour la détection de données aberrantes dans un jeu de données, ou bien pour déterminer la cohérence de données fournies par un capteur par exemple : cette distance est calculée entre les données reçues et celles prédites par un modèle. "
   ]
  },
  {
   "cell_type": "markdown",
   "id": "73810b81",
   "metadata": {},
   "source": [
    "<img src=\"img.png\">"
   ]
  },
  {
   "cell_type": "markdown",
   "id": "85f61749",
   "metadata": {},
   "source": [
    "<h2><font color='blue'> 2) Propriétés </font></h2>"
   ]
  },
  {
   "cell_type": "markdown",
   "id": "8b5086cc",
   "metadata": {},
   "source": [
    "<img src=\"img1.png\">"
   ]
  },
  {
   "cell_type": "markdown",
   "id": "ba5128cd",
   "metadata": {},
   "source": [
    "<img src=\"img2.png\">"
   ]
  },
  {
   "cell_type": "markdown",
   "id": "bf86d8e6",
   "metadata": {},
   "source": [
    "<h2><font color='blue'> 3) Explication intuitive</font></h2>"
   ]
  },
  {
   "cell_type": "markdown",
   "id": "68bc92b7",
   "metadata": {},
   "source": [
    "Considérons le problème de l'estimation de la probabilité qu'un point de test dans l' espace euclidien à N dimensions appartienne à un ensemble, où l'on nous donne des points d'échantillonnage qui appartiennent définitivement à cet ensemble. Notre première étape serait de trouver le centroïde ou le centre de masse des points d'échantillonnage. Intuitivement, plus le point en question est proche de ce centre de gravité, plus il a de chances d'appartenir à l'ensemble. <br>\n",
    "Cependant, nous devons également savoir si l'ensemble est étalé sur une grande ou une petite plage, afin de pouvoir décider si une distance donnée du centre est remarquable ou non. L'approche simpliste consiste à estimer l' écart type des distances entre les points d'échantillonnage et le centre de masse. Si la distance entre le point de test et le centre de masse est inférieure à un écart type, alors nous pourrions conclure qu'il est hautement probable que le point de test appartienne à l'ensemble. Plus il est éloigné, plus il est probable que le point de test ne soit pas classé comme appartenant à l'ensemble."
   ]
  },
  {
   "cell_type": "markdown",
   "id": "06e9eb30",
   "metadata": {},
   "source": [
    "<img src=\"img3.png\">"
   ]
  },
  {
   "cell_type": "markdown",
   "id": "89e71921",
   "metadata": {},
   "source": [
    "L'inconvénient de l'approche ci-dessus était que nous avons supposé que les points d'échantillonnage sont répartis autour du centre de masse de manière sphérique. Si la distribution était résolument non sphérique, par exemple ellipsoïdale, alors nous nous attendrions à ce que la probabilité que le point de test appartienne à l'ensemble dépende non seulement de la distance du centre de masse, mais également de la direction. Dans les directions où l'ellipsoïde a un axe court, le point de test doit être plus proche, tandis que dans celles où l'axe est long, le point de test peut être plus éloigné du centre. <br>\n",
    "En posant cela sur une base mathématique, l'ellipsoïde qui représente le mieux la distribution de probabilité de l'ensemble peut être estimé en construisant la matrice de covariance des échantillons. La distance de Mahalanobis est la distance entre le point de test et le centre de masse divisée par la largeur de l'ellipsoïde dans la direction du point de test."
   ]
  },
  {
   "cell_type": "markdown",
   "id": "f3836466",
   "metadata": {},
   "source": [
    "<h2><font color='blue'> 4) Distributions normales</font></h2>"
   ]
  },
  {
   "cell_type": "markdown",
   "id": "e0c7369c",
   "metadata": {},
   "source": [
    "<img src=\"img4.png\">"
   ]
  },
  {
   "cell_type": "markdown",
   "id": "522f378f",
   "metadata": {},
   "source": [
    "La distance de Mahalanobis est proportionnelle, pour une distribution normale, à la racine carrée de la log-vraisemblance négative (après avoir ajouté une constante de sorte que le minimum soit à zéro)."
   ]
  },
  {
   "cell_type": "markdown",
   "id": "48deb2c6",
   "metadata": {},
   "source": [
    "<h2><font color='blue'> 5) Relation avec les variables aléatoires normales </font></h2>"
   ]
  },
  {
   "cell_type": "markdown",
   "id": "d0185557",
   "metadata": {},
   "source": [
    "<img src=\"img5.png\">"
   ]
  },
  {
   "cell_type": "markdown",
   "id": "354c4b5d",
   "metadata": {},
   "source": [
    "<h2><font color='blue'> 6) Applications</font></h2>"
   ]
  },
  {
   "cell_type": "markdown",
   "id": "394e3fa0",
   "metadata": {},
   "source": [
    "La définition de Mahalanobis a été motivée par le problème de l'identification des similitudes des crânes sur la base de mesures en 1927. <br>\n",
    "La distance de Mahalanobis est largement utilisée dans les techniques d' analyse et de classification par grappes . Elle est étroitement liée à la distribution des carrés en T de Hotelling utilisée pour les tests statistiques multivariés et à l' analyse discriminante linéaire de Fisher qui est utilisée pour la classification supervisée . <br>\n",
    "Afin d'utiliser la distance de Mahalanobis pour classer un point de test comme appartenant à l'une des N classes, on estime d' abord la matrice de covariance de chaque classe, généralement basée sur des échantillons connus pour appartenir à chaque classe. Ensuite, étant donné un échantillon de test, on calcule la distance de Mahalanobis à chaque classe, et classe le point de test comme appartenant à cette classe pour laquelle la distance de Mahalanobis est minimale."
   ]
  },
  {
   "cell_type": "markdown",
   "id": "baa7f184",
   "metadata": {},
   "source": [
    "<h2><font color='blue'> 7) Implémentations logicielles </font></h2>"
   ]
  },
  {
   "cell_type": "markdown",
   "id": "e026991b",
   "metadata": {},
   "source": [
    "De nombreux programmes et packages de statistiques, tels que R , Python , etc., incluent des implémentations de la distance Mahalanobis."
   ]
  },
  {
   "cell_type": "markdown",
   "id": "15e0adbb",
   "metadata": {},
   "source": [
    "<h1><font color='orange'>Partie Pratique : </font></h1>"
   ]
  },
  {
   "cell_type": "code",
   "execution_count": 2,
   "id": "e9a13a59",
   "metadata": {},
   "outputs": [],
   "source": [
    "\n",
    "\n",
    "import pandas as pd\n",
    "import numpy as np\n",
    "import seaborn as sns\n",
    "import matplotlib.pyplot as plt\n",
    "\n"
   ]
  },
  {
   "cell_type": "code",
   "execution_count": 3,
   "id": "bc837cf8",
   "metadata": {},
   "outputs": [],
   "source": [
    "x1 = np.random.normal(0, 5, 1000)\n",
    "x2 = np.random.normal(0, 1, 1000)\n"
   ]
  },
  {
   "cell_type": "code",
   "execution_count": 4,
   "id": "1b3610fd",
   "metadata": {},
   "outputs": [],
   "source": [
    "df = pd.DataFrame({\n",
    "    'x1': x1, \n",
    "    'x2': x2\n",
    "})"
   ]
  },
  {
   "cell_type": "code",
   "execution_count": 5,
   "id": "75e87b10",
   "metadata": {},
   "outputs": [
    {
     "data": {
      "text/plain": [
       "<AxesSubplot:xlabel='x1', ylabel='x2'>"
      ]
     },
     "execution_count": 5,
     "metadata": {},
     "output_type": "execute_result"
    },
    {
     "data": {
      "image/png": "[encoded data removed]",
      "text/plain": [
       "<Figure size 720x504 with 1 Axes>"
      ]
     },
     "metadata": {
      "needs_background": "light"
     },
     "output_type": "display_data"
    }
   ],
   "source": [
    "plt.figure(figsize=(10, 7))\n",
    "sns.scatterplot(x='x1', y='x2', data=df)"
   ]
  },
  {
   "cell_type": "code",
   "execution_count": 6,
   "id": "9be07401",
   "metadata": {},
   "outputs": [],
   "source": [
    "\n",
    "\n",
    "def mahalanobis_distance(p, q, df):\n",
    "    A = p - q\n",
    "    B = (p - q).T\n",
    "    covariance_matrix = np.array(df.cov())\n",
    "    inverse_covariance_matrix = np.linalg.inv(covariance_matrix)\n",
    "    return np.dot(np.dot(A, inverse_covariance_matrix), B)\n",
    "\n"
   ]
  },
  {
   "cell_type": "code",
   "execution_count": 7,
   "id": "5a6c403a",
   "metadata": {},
   "outputs": [],
   "source": [
    "def euclidean_distance(p, q):\n",
    "    return np.sqrt(np.sum((p - q) ** 2))"
   ]
  },
  {
   "cell_type": "code",
   "execution_count": 8,
   "id": "213df96f",
   "metadata": {},
   "outputs": [
    {
     "data": {
      "text/html": [
       "<div>\n",
       "<style scoped>\n",
       "    .dataframe tbody tr th:only-of-type {\n",
       "        vertical-align: middle;\n",
       "    }\n",
       "\n",
       "    .dataframe tbody tr th {\n",
       "        vertical-align: top;\n",
       "    }\n",
       "\n",
       "    .dataframe thead th {\n",
       "        text-align: right;\n",
       "    }\n",
       "</style>\n",
       "<table border=\"1\" class=\"dataframe\">\n",
       "  <thead>\n",
       "    <tr style=\"text-align: right;\">\n",
       "      <th></th>\n",
       "      <th>x1</th>\n",
       "      <th>x2</th>\n",
       "    </tr>\n",
       "  </thead>\n",
       "  <tbody>\n",
       "    <tr>\n",
       "      <th>0</th>\n",
       "      <td>-2.565483</td>\n",
       "      <td>0.749798</td>\n",
       "    </tr>\n",
       "    <tr>\n",
       "      <th>1</th>\n",
       "      <td>5.311609</td>\n",
       "      <td>0.042024</td>\n",
       "    </tr>\n",
       "    <tr>\n",
       "      <th>2</th>\n",
       "      <td>-5.017776</td>\n",
       "      <td>0.586373</td>\n",
       "    </tr>\n",
       "    <tr>\n",
       "      <th>3</th>\n",
       "      <td>-1.537621</td>\n",
       "      <td>-0.099286</td>\n",
       "    </tr>\n",
       "    <tr>\n",
       "      <th>4</th>\n",
       "      <td>-4.249948</td>\n",
       "      <td>-1.043234</td>\n",
       "    </tr>\n",
       "    <tr>\n",
       "      <th>...</th>\n",
       "      <td>...</td>\n",
       "      <td>...</td>\n",
       "    </tr>\n",
       "    <tr>\n",
       "      <th>995</th>\n",
       "      <td>-2.665311</td>\n",
       "      <td>-0.417940</td>\n",
       "    </tr>\n",
       "    <tr>\n",
       "      <th>996</th>\n",
       "      <td>2.247612</td>\n",
       "      <td>1.327194</td>\n",
       "    </tr>\n",
       "    <tr>\n",
       "      <th>997</th>\n",
       "      <td>5.973225</td>\n",
       "      <td>-1.491188</td>\n",
       "    </tr>\n",
       "    <tr>\n",
       "      <th>998</th>\n",
       "      <td>-2.997206</td>\n",
       "      <td>-0.652894</td>\n",
       "    </tr>\n",
       "    <tr>\n",
       "      <th>999</th>\n",
       "      <td>4.689708</td>\n",
       "      <td>-1.285210</td>\n",
       "    </tr>\n",
       "  </tbody>\n",
       "</table>\n",
       "<p>1000 rows × 2 columns</p>\n",
       "</div>"
      ],
      "text/plain": [
       "           x1        x2\n",
       "0   -2.565483  0.749798\n",
       "1    5.311609  0.042024\n",
       "2   -5.017776  0.586373\n",
       "3   -1.537621 -0.099286\n",
       "4   -4.249948 -1.043234\n",
       "..        ...       ...\n",
       "995 -2.665311 -0.417940\n",
       "996  2.247612  1.327194\n",
       "997  5.973225 -1.491188\n",
       "998 -2.997206 -0.652894\n",
       "999  4.689708 -1.285210\n",
       "\n",
       "[1000 rows x 2 columns]"
      ]
     },
     "execution_count": 8,
     "metadata": {},
     "output_type": "execute_result"
    }
   ],
   "source": [
    "df"
   ]
  },
  {
   "cell_type": "code",
   "execution_count": 9,
   "id": "beebb5eb",
   "metadata": {},
   "outputs": [],
   "source": [
    "\n",
    "\n",
    "x1_min_arg = x1[np.argsort(x1)[0]]\n",
    "x1_max_arg = x1[np.argsort(x1)[-1]]\n",
    "x2_min_arg, x2_max_arg = x2[np.where((x2 > np.mean(x2) - .2) & (x2 < np.mean(x2) + .2))[0][0:2]]\n",
    "\n"
   ]
  },
  {
   "cell_type": "code",
   "execution_count": 10,
   "id": "b152029c",
   "metadata": {},
   "outputs": [
    {
     "data": {
      "text/plain": [
       "<AxesSubplot:xlabel='x1', ylabel='x2'>"
      ]
     },
     "execution_count": 10,
     "metadata": {},
     "output_type": "execute_result"
    },
    {
     "data": {
      "image/png": "[encoded data removed]",
      "text/plain": [
       "<Figure size 720x504 with 1 Axes>"
      ]
     },
     "metadata": {
      "needs_background": "light"
     },
     "output_type": "display_data"
    }
   ],
   "source": [
    "\n",
    "\n",
    "plt.figure(figsize=(10, 7))\n",
    "sns.scatterplot(x='x1', y='x2', data=df)\n",
    "sns.scatterplot(x=[x1_min_arg, x1_max_arg], y=[x2_min_arg, x2_max_arg], color='red')\n",
    "\n"
   ]
  },
  {
   "cell_type": "code",
   "execution_count": 11,
   "id": "b39e8bd7",
   "metadata": {},
   "outputs": [],
   "source": [
    "p = np.array([[x1_min_arg, x2_min_arg]])\n",
    "q = np.array([[x1_max_arg, x2_max_arg]])"
   ]
  },
  {
   "cell_type": "code",
   "execution_count": 12,
   "id": "5e388c05",
   "metadata": {},
   "outputs": [
    {
     "data": {
      "text/plain": [
       "29.691771682116865"
      ]
     },
     "execution_count": 12,
     "metadata": {},
     "output_type": "execute_result"
    }
   ],
   "source": [
    "\n",
    "\n",
    "euclidean_distance(p, q)\n",
    "\n"
   ]
  },
  {
   "cell_type": "code",
   "execution_count": 13,
   "id": "aa8a3f46",
   "metadata": {},
   "outputs": [
    {
     "data": {
      "text/plain": [
       "array([[36.0629176]])"
      ]
     },
     "execution_count": 13,
     "metadata": {},
     "output_type": "execute_result"
    }
   ],
   "source": [
    "mahalanobis_distance(p, q, df)"
   ]
  },
  {
   "cell_type": "code",
   "execution_count": 14,
   "id": "b60956c4",
   "metadata": {},
   "outputs": [],
   "source": [
    "filepath = 'https://raw.githubusercontent.com/selva86/datasets/master/diamonds.csv'\n",
    "df = pd.read_csv(filepath).iloc[:, [0,4,6]]"
   ]
  },
  {
   "cell_type": "code",
   "execution_count": 15,
   "id": "9a92fcfa",
   "metadata": {},
   "outputs": [
    {
     "data": {
      "text/html": [
       "<div>\n",
       "<style scoped>\n",
       "    .dataframe tbody tr th:only-of-type {\n",
       "        vertical-align: middle;\n",
       "    }\n",
       "\n",
       "    .dataframe tbody tr th {\n",
       "        vertical-align: top;\n",
       "    }\n",
       "\n",
       "    .dataframe thead th {\n",
       "        text-align: right;\n",
       "    }\n",
       "</style>\n",
       "<table border=\"1\" class=\"dataframe\">\n",
       "  <thead>\n",
       "    <tr style=\"text-align: right;\">\n",
       "      <th></th>\n",
       "      <th>carat</th>\n",
       "      <th>depth</th>\n",
       "      <th>price</th>\n",
       "    </tr>\n",
       "  </thead>\n",
       "  <tbody>\n",
       "    <tr>\n",
       "      <th>0</th>\n",
       "      <td>0.23</td>\n",
       "      <td>61.5</td>\n",
       "      <td>326</td>\n",
       "    </tr>\n",
       "    <tr>\n",
       "      <th>1</th>\n",
       "      <td>0.21</td>\n",
       "      <td>59.8</td>\n",
       "      <td>326</td>\n",
       "    </tr>\n",
       "    <tr>\n",
       "      <th>2</th>\n",
       "      <td>0.23</td>\n",
       "      <td>56.9</td>\n",
       "      <td>327</td>\n",
       "    </tr>\n",
       "  </tbody>\n",
       "</table>\n",
       "</div>"
      ],
      "text/plain": [
       "   carat  depth  price\n",
       "0   0.23   61.5    326\n",
       "1   0.21   59.8    326\n",
       "2   0.23   56.9    327"
      ]
     },
     "execution_count": 15,
     "metadata": {},
     "output_type": "execute_result"
    }
   ],
   "source": [
    "df.head(3)"
   ]
  },
  {
   "cell_type": "code",
   "execution_count": 16,
   "id": "ea65ae5b",
   "metadata": {},
   "outputs": [
    {
     "data": {
      "text/plain": [
       "array([2.30e-01, 6.28e+01, 3.40e+02])"
      ]
     },
     "execution_count": 16,
     "metadata": {},
     "output_type": "execute_result"
    }
   ],
   "source": [
    "df.iloc[11].values"
   ]
  },
  {
   "cell_type": "code",
   "execution_count": 17,
   "id": "649f311f",
   "metadata": {},
   "outputs": [
    {
     "data": {
      "text/plain": [
       "0.7919318634752811"
      ]
     },
     "execution_count": 17,
     "metadata": {},
     "output_type": "execute_result"
    }
   ],
   "source": [
    "mahalanobis_distance(df.iloc[10].values, df.iloc[11].values, df)"
   ]
  }
 ],
 "metadata": {
  "kernelspec": {
   "display_name": "Python 3",
   "language": "python",
   "name": "python3"
  },
  "language_info": {
   "codemirror_mode": {
    "name": "ipython",
    "version": 3
   },
   "file_extension": ".py",
   "mimetype": "text/x-python",
   "name": "python",
   "nbconvert_exporter": "python",
   "pygments_lexer": "ipython3",
   "version": "3.8.8"
  }
 },
 "nbformat": 4,
 "nbformat_minor": 5
}
